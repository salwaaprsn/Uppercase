{
 "cells": [
  {
   "cell_type": "code",
   "execution_count": 1,
   "id": "a1b42c02",
   "metadata": {},
   "outputs": [
    {
     "name": "stdout",
     "output_type": "stream",
     "text": [
      "Jumlah huruf besar dalam teks: 6\n"
     ]
    }
   ],
   "source": [
    "import hitung_uppercase\n",
    "\n",
    "teks = \"Halo. Saya adalah Mahasiswa Jurusan Teknik Informatika.\"\n",
    "jumlah_uppercase = hitung_uppercase.hitung_uppercase(teks)\n",
    "print(f\"Jumlah huruf besar dalam teks: {jumlah_uppercase}\")"
   ]
  },
  {
   "cell_type": "code",
   "execution_count": null,
   "id": "e39190f6",
   "metadata": {},
   "outputs": [],
   "source": []
  }
 ],
 "metadata": {
  "kernelspec": {
   "display_name": "Python 3 (ipykernel)",
   "language": "python",
   "name": "python3"
  },
  "language_info": {
   "codemirror_mode": {
    "name": "ipython",
    "version": 3
   },
   "file_extension": ".py",
   "mimetype": "text/x-python",
   "name": "python",
   "nbconvert_exporter": "python",
   "pygments_lexer": "ipython3",
   "version": "3.11.5"
  }
 },
 "nbformat": 4,
 "nbformat_minor": 5
}
